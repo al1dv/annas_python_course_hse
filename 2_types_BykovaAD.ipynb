{
  "cells": [
    {
      "cell_type": "markdown",
      "metadata": {
        "colab_type": "text",
        "id": "view-in-github"
      },
      "source": [
        "<a href=\"https://colab.research.google.com/github/vifirsanova/hse-python-course/blob/main/workbook/2_types.ipynb\" target=\"_parent\"><img src=\"https://colab.research.google.com/assets/colab-badge.svg\" alt=\"Open In Colab\"/></a>"
      ]
    },
    {
      "cell_type": "markdown",
      "metadata": {
        "id": "LKJXB1rGMi22"
      },
      "source": [
        "(c) В.И. Фирсанова | 2024"
      ]
    },
    {
      "cell_type": "markdown",
      "metadata": {
        "id": "fQaRb4FdiZXL"
      },
      "source": [
        "# Типы данных в Python\n",
        "\n",
        "1. **Числовые типы**:\n",
        "   - `int` integer, целое число `7`\n",
        "   - `float` число с плавающей точкой (десятичная дробь) `7.1`\n",
        "\n",
        "2. **Булевы перменные**:\n",
        "   - `Bool` Boolean, принимает значения `True` или `False`\n",
        "\n",
        "3. **Наборы, последовательности**:\n",
        "   - `str` string, строка `\"hello\"`\n",
        "   - `list`, список `[1, 7.1, \"hello\"]`, изменяемая последовательность\n",
        "    - *вложенный список* состоит из множества списков `[[0, 1, 2], [3, 4]]`\n",
        "   - `tuple`, кортеж `(1, 7.1, \"hello), неизменяемая последовательность\n",
        "    - в кортежах нельзя удалять, добавлять данные; они занимают меньше памяти\n",
        "   - `dict`, dictionary, словарь `{\"number\": 1, \"word\": \"hello\"}`, пары ключей и значений (key-query)\n",
        "    - в этом примере ключами будут `\"number\"` и `\"word\"`, а значениями - `1` и `\"hello\"`\n",
        "  - `set`, множество, неупорядоченный набор уникальных элементов `{1, 2, 3}`\n",
        "  - `frozenset`, неизменяемое множество (аналог кортежа по отношению к спискам)\n",
        "\n",
        "4. **None**:\n",
        "   - `None` можно использовать для создания пустого элемента, как плейсхолдер в функции, для проверки факта наличия объекта в переменной и т.д."
      ]
    },
    {
      "cell_type": "markdown",
      "metadata": {
        "id": "M_S_1NbvB2ak"
      },
      "source": [
        "Задачи\n",
        "\n",
        "1. Угадай число"
      ]
    },
    {
      "cell_type": "code",
      "execution_count": 2,
      "metadata": {
        "colab": {
          "base_uri": "https://localhost:8080/"
        },
        "id": "l6Dwn2cDj_N9",
        "outputId": "2200bdcf-110f-49bc-f055-409257dfdb72"
      },
      "outputs": [
        {
          "name": "stdout",
          "output_type": "stream",
          "text": [
            "А вот и нет! Это число 3\n"
          ]
        }
      ],
      "source": [
        "import random # библиотека для генерации случайных чисел\n",
        "\n",
        "# генерируем случайное целое число (random integer) от 0 до 10\n",
        "# функция randint принимает два аргумента: диапазон генерации\n",
        "magic_number = random.randint(0, 10)\n",
        "\n",
        "# запросите у пользователя ввод числа\n",
        "user_number = input(\"Введите число от 0 до 10:\")\n",
        "\n",
        "if user_number == magic_number: # проверка на совпадение значений\n",
        "  print('Поздравляю, вы угадали!')\n",
        "else:\n",
        "  print('А вот и нет! Это число', magic_number)"
      ]
    },
    {
      "cell_type": "markdown",
      "metadata": {
        "id": "HU_ZGIkeAZfI"
      },
      "source": [
        "Обратите внимание на строку `print('А вот и нет! Это число', magic_number)`\n",
        "\n",
        "`print` может принимать несколько аргументов через запятую и выводить на экран их все!\n",
        "\n",
        "Используйте это в следующем задании.\n",
        "\n",
        "2. Приветствие"
      ]
    },
    {
      "cell_type": "code",
      "execution_count": 3,
      "metadata": {
        "colab": {
          "base_uri": "https://localhost:8080/"
        },
        "id": "y-PGiG7G_7lC",
        "outputId": "ff0b19a4-03ec-4f18-82ee-a6e7a2adc73a"
      },
      "outputs": [
        {
          "name": "stdout",
          "output_type": "stream",
          "text": [
            "Hello,  Anna\n"
          ]
        }
      ],
      "source": [
        "# запросите у пользователя его имя\n",
        "# вспомните, чем input(int()) отличается от input()\n",
        "name = input(\"Введите ваше имя:\")\n",
        "\n",
        "# выведите на экран любое приветствие для пользователя\n",
        "print(\"Hello, \", name)"
      ]
    },
    {
      "cell_type": "markdown",
      "metadata": {
        "id": "A_FhYEiWCAVW"
      },
      "source": [
        "3. Конвертер температур"
      ]
    },
    {
      "cell_type": "code",
      "execution_count": 8,
      "metadata": {
        "colab": {
          "base_uri": "https://localhost:8080/"
        },
        "id": "0eRzO5hMkdIc",
        "outputId": "a665c00a-6d98-4aad-ca94-ba517260edc8"
      },
      "outputs": [
        {
          "name": "stdout",
          "output_type": "stream",
          "text": [
            "Температура в градусах Цельсия:  33.4\n",
            "Температура в градусах Фаренгейта:  1128.9199999999998\n"
          ]
        }
      ],
      "source": [
        "# запросите у пользователя температуру в градусах Цельсия:\n",
        "# это должно быть дробное числом (float)\n",
        "num1 = float(input(\"Введите температуру в градусах Цельсия: \"))\n",
        "\n",
        "# конвертируйте температуру из градусов Цельсия в градусы Фаренгейта:\n",
        "# вспомните или найдите формулу и используйте арифметические операции python для расчетов\n",
        "num2 = num1 * 33.8\n",
        "\n",
        "# выведите результат на экран:\n",
        "# используйте любые текстовые формулировки, чтобы показать число,\n",
        "# которое вы получили от пользователя, и результат расчетов\n",
        "print(\"Температура в градусах Цельсия: \", num1)\n",
        "print(\"Температура в градусах Фаренгейта: \", num2)"
      ]
    },
    {
      "cell_type": "markdown",
      "metadata": {
        "id": "7ZiP0RJeEKXX"
      },
      "source": [
        "Как вывести на экран несколько строк?\n",
        "\n",
        "- Можно вызвать `print` несколько раз\n",
        "\n",
        "```\n",
        "print('Вот первая строка')\n",
        "print('А это вторая строка')\n",
        "```\n",
        "- Можно использовать `\\n` - символ новой строки\n",
        "\n",
        "```\n",
        "print('Вот первая строка \\n А это вторая строка')\n",
        "```\n",
        "\n",
        "4. Округление и вывод с помощью новой строки"
      ]
    },
    {
      "cell_type": "code",
      "execution_count": null,
      "metadata": {
        "colab": {
          "base_uri": "https://localhost:8080/"
        },
        "id": "bUwEDGEFE2g2",
        "outputId": "d97a0fb8-b7d8-4e63-9275-f3b103b93eac"
      },
      "outputs": [
        {
          "name": "stdout",
          "output_type": "stream",
          "text": [
            "33 , 1128\n",
            "33.4 , 1128.9\n",
            "Градусы Цельсия:  33.4 \n",
            " Градусы Фаренгейта:  1128.9\n"
          ]
        }
      ],
      "source": [
        "# результат расчетов в задаче 3 сохранился в переменных\n",
        "# воспользуемся этим преимуществом!\n",
        "\n",
        "# округлите оба значения температур в градусах Цельсия и в градусах Фаргентейта\n",
        "# вы можете преобразовать результат к виду целого числа с помощью int(n); n - число для преобразования\n",
        "# либо воспользоваться функцией round(n, k), указав в аргументах функции количество знаков после запятой k\n",
        "# попробуйте оба варианта!\n",
        "num1 = 33.4\n",
        "num2 = 1128.9199999999998\n",
        "celsius1 = int(num1)\n",
        "fahrenheit1 = int(num2)\n",
        "print(celsius1, ',', fahrenheit1)\n",
        "\n",
        "num1 = 33.4\n",
        "num2 = 1128.9199999999998\n",
        "celsius2 = round(num1, 1)\n",
        "fahrenheit2 = round(num2, 1)\n",
        "print(celsius2, ',', fahrenheit2)\n",
        "\n",
        "# теперь выведите на экран оба числа\n",
        "# сделайте это в одну строчку кода:\n",
        "# используйте символ новой строки, подумайте, куда его добавить\n",
        "print('Градусы Цельсия: ', celsius2, '\\n', 'Градусы Фаренгейта: ', fahrenheit2)"
      ]
    },
    {
      "cell_type": "markdown",
      "metadata": {
        "id": "nqNeKzKIGi3J"
      },
      "source": [
        "В задании 4 нам может помочь свойство конкатенации строк.\n",
        "\n",
        "`print('Hello' + ' ' +'World')`\n",
        "\n",
        "Но сложение строки с числом невозможно в питоне. Что делать?\n",
        "\n",
        "5. Конвертирование типов данных"
      ]
    },
    {
      "cell_type": "code",
      "execution_count": 30,
      "metadata": {
        "colab": {
          "base_uri": "https://localhost:8080/"
        },
        "id": "us_bdGWcGxnN",
        "outputId": "b0838b9f-03fe-4a5a-84c2-6d2c60833a46"
      },
      "outputs": [
        {
          "name": "stdout",
          "output_type": "stream",
          "text": [
            "33.4, 1128.9\n"
          ]
        }
      ],
      "source": [
        "# преобразуйте округленные значения температур к виду строк, применив str(n),\n",
        "# где n - то, что вы хотите преобразовать к виду строки\n",
        "celsiusstr = str(celsius2)\n",
        "fahrenheitstr = str(fahrenheit2)\n",
        "\n",
        "# выведите на экран результат:\n",
        "# используйте конкатенацию строк вместо запятой в функции print\n",
        "print(celsiusstr + ', ' + fahrenheitstr)"
      ]
    },
    {
      "cell_type": "markdown",
      "metadata": {
        "id": "spQ5uN3astAm"
      },
      "source": [
        "Чтобы преобразовать один тип данных в другой, мы вызываем функцию, обозначающую этот тип.\n",
        "\n",
        "Закрепим новый материал.\n",
        "\n",
        "6. Калькулятор"
      ]
    },
    {
      "cell_type": "code",
      "execution_count": 34,
      "metadata": {
        "colab": {
          "base_uri": "https://localhost:8080/"
        },
        "id": "n7-Jm439sar_",
        "outputId": "c523ae50-3219-42ce-db1c-68ae2f5c430b"
      },
      "outputs": [
        {
          "name": "stdout",
          "output_type": "stream",
          "text": [
            "8, 2, 15, 25, 9\n"
          ]
        }
      ],
      "source": [
        "# запросите у пользователя 2 целых числа\n",
        "# выполните операции сложения, вычитания, умножения и возведения каждого из чисел во вторую степень\n",
        "# выведите результат на экран\n",
        "\n",
        "num1 = int(input('Введите первое целое число:'))\n",
        "num2 = int(input('Введите второе целое число:'))\n",
        "res1 = str(num1 + num2)\n",
        "res2 = str(num1 - num2)\n",
        "res3 = str(num1 * num2)\n",
        "res4 = str(num1 ** 2)\n",
        "res5 = str(num2 ** 2)\n",
        "\n",
        "print(res1 + ', ' + res2 + ', ' + res3 + ', ' + res4 + ', ' + res5)"
      ]
    },
    {
      "cell_type": "markdown",
      "metadata": {
        "id": "x73Q0mXOuY_A"
      },
      "source": [
        "7. Анкета"
      ]
    },
    {
      "cell_type": "code",
      "execution_count": null,
      "metadata": {
        "colab": {
          "base_uri": "https://localhost:8080/"
        },
        "id": "-I2KyU5CuF_q",
        "outputId": "bdb742b3-f065-4feb-bbbb-2ea3a4057b86"
      },
      "outputs": [
        {
          "name": "stdout",
          "output_type": "stream",
          "text": [
            "Имя: Антон\n",
            "Возраст: 25\n",
            "Прфессия: Слесарь\n"
          ]
        }
      ],
      "source": [
        "# вспомним множественное присваивание в python\n",
        "# a, b, c = 0, 1, 2\n",
        "# используйте множественное присваивание,\n",
        "# чтобы одной строчкой кода запросить у пользователя имя, возраст и профессию\n",
        "# выведите на экран полученную информацию\n",
        "\n",
        "name, age, job = input('Введите ваше имя: '), input('Введите ваш возраст: '), input('Введите вашу профессию:')\n",
        "print('Имя: ' + name + '\\n' + 'Возраст: ' + age + '\\n' 'Профессия: ' + job)"
      ]
    },
    {
      "cell_type": "markdown",
      "metadata": {
        "id": "yTqWtZfltMhg"
      },
      "source": [
        "8. Поменять местами переменные"
      ]
    },
    {
      "cell_type": "code",
      "execution_count": 40,
      "metadata": {
        "colab": {
          "base_uri": "https://localhost:8080/"
        },
        "id": "NTHA_bPbv8uX",
        "outputId": "3f160c8c-b9fd-4ae2-ccf7-7695f5529dd8"
      },
      "outputs": [
        {
          "name": "stdout",
          "output_type": "stream",
          "text": [
            "3,2\n",
            "2,3\n"
          ]
        }
      ],
      "source": [
        "# множественное присваивание иногда очень полезно\n",
        "# запросите у пользователя две любые переменные\n",
        "# это может быть строка или число, на ваш выбор\n",
        "\n",
        "# поменяйте их местами одной строчкой кода:\n",
        "# запишите в первую переменную информацию из второй,\n",
        "# а во вторую переменную - информацию из первой, используя множественное присваивание\n",
        "\n",
        "# выведите на экран промежуточные и итоговые результаты\n",
        "\n",
        "n1, n2 = input('Введите информацию в первую переменную'), input('Введите информацию во вторую переменную')\n",
        "n2, n1 = n1, n2\n",
        "print(n1 + ',' + n2 + '\\n' + n2 + ',' + n1)\n"
      ]
    },
    {
      "cell_type": "markdown",
      "metadata": {
        "id": "75A8BHaKv6Wl"
      },
      "source": [
        "9. Дописать функцию"
      ]
    },
    {
      "cell_type": "code",
      "execution_count": 45,
      "metadata": {
        "colab": {
          "base_uri": "https://localhost:8080/"
        },
        "id": "rBnK8PXDxVRr",
        "outputId": "5e989a6f-75f0-4fab-c518-a202603713de"
      },
      "outputs": [
        {
          "name": "stdout",
          "output_type": "stream",
          "text": [
            "8 15\n"
          ]
        }
      ],
      "source": [
        "# чаще мы используем множественное присваивание в фунциональном программировании\n",
        "# например, эта функция считает сумму и произведение двух чисел\n",
        "# функция принимает на вход (почти как input!) 2 числа\n",
        "# эти числа запишутся в переменные a и b\n",
        "def sum_and_product(a, b):\n",
        "    # напишите здесь код для расчета суммы чисел a и b\n",
        "    total_sum = a + b\n",
        "    # а сюда допишите код для подсчета их произведения\n",
        "    product = a * b\n",
        "    # функция возвращает результат подсчета - два новых числа\n",
        "    return total_sum, product\n",
        "\n",
        "# настало время множественного присваивания\n",
        "# мы вызывает функцию sum_and_product и передаем ей в качестве аргументов два числа - 5 и 3\n",
        "# мы помним, что функция возвращает 2 новых числа,\n",
        "# поэтому результат работы одной функции мы записываем в две переменные: result_sum и result_product\n",
        "result_sum, result_product = sum_and_product(5, 3)\n",
        "\n",
        "# выведите на экран result_sum и result_product\n",
        "print(result_sum, result_product)"
      ]
    },
    {
      "cell_type": "markdown",
      "metadata": {
        "id": "ZmO8j5ySxUO9"
      },
      "source": [
        "10. Строка и число"
      ]
    },
    {
      "cell_type": "code",
      "execution_count": 53,
      "metadata": {
        "colab": {
          "base_uri": "https://localhost:8080/"
        },
        "id": "XOt6ZUeDzFAJ",
        "outputId": "f2b8234d-b967-49b6-f99f-ad4dcb5997d7"
      },
      "outputs": [
        {
          "name": "stdout",
          "output_type": "stream",
          "text": [
            "24 6\n"
          ]
        }
      ],
      "source": [
        "# запросите у пользователя 2 числа, используйте str(input())\n",
        "# сложите два числа, не меняя тип данных, и выведите на экран результат\n",
        "# преобразуйте числа к виду нужного типа и снова сложите их, выведите результат\n",
        "\n",
        "# это задание нам уже знакомо:\n",
        "# попробуйте решить его питонично, используя как можно меньше строк кода\n",
        "# какие операции можно объединить?\n",
        "# в каких случаях нам не нужно создавать дополнительные переменные?\n",
        "\n",
        "a, b = str(input('Введите число:')), str(input('Введите еще число:'))\n",
        "print(a + b, int(a) + int(b))\n"
      ]
    }
  ],
  "metadata": {
    "colab": {
      "authorship_tag": "ABX9TyMq8TB4BtDuVLrI0QoQahmG",
      "include_colab_link": true,
      "provenance": []
    },
    "kernelspec": {
      "display_name": "Python 3",
      "name": "python3"
    },
    "language_info": {
      "codemirror_mode": {
        "name": "ipython",
        "version": 3
      },
      "file_extension": ".py",
      "mimetype": "text/x-python",
      "name": "python",
      "nbconvert_exporter": "python",
      "pygments_lexer": "ipython3",
      "version": "3.11.9"
    }
  },
  "nbformat": 4,
  "nbformat_minor": 0
}
